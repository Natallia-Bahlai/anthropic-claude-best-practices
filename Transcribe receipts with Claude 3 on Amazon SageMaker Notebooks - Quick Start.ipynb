{
 "cells": [
  {
   "cell_type": "code",
   "execution_count": null,
   "id": "2c8817fe-a057-4ef8-a40f-23e27ffbf3fd",
   "metadata": {},
   "outputs": [],
   "source": [
    "%pip install anthropic IPython"
   ]
  },
  {
   "cell_type": "code",
   "execution_count": null,
   "id": "667a8787-b48b-4f0d-a79d-6f22a84a2676",
   "metadata": {
    "tags": []
   },
   "outputs": [],
   "source": [
    "import boto3\n",
    "import json\n",
    "import base64\n",
    "from anthropic import AnthropicBedrock\n",
    "from IPython.display import Image, JSON\n",
    "from io import BytesIO\n",
    "\n",
    "session = boto3.Session() # create a boto3 session to dynamically get and set the region name\n",
    "bedrock = session.client(service_name='bedrock-runtime') #creates a Bedrock client"
   ]
  },
  {
   "cell_type": "code",
   "execution_count": null,
   "id": "53921a86-f697-4ee5-9a3f-53ceb2918f77",
   "metadata": {
    "tags": []
   },
   "outputs": [],
   "source": [
    "#get a base64-encoded string from file bytes\n",
    "def get_base64_from_bytes(image_bytes):\n",
    "    resized_io = BytesIO(image_bytes)\n",
    "    img_str = base64.b64encode(resized_io.getvalue()).decode(\"utf-8\")\n",
    "    return img_str\n",
    "\n",
    "def transcribe_document(regular_prompt, system_prompt, image_bytes=None):\n",
    "    \n",
    "    body = {\n",
    "        \"anthropic_version\": \"bedrock-2023-05-31\",\n",
    "        \"max_tokens\": 4000,\n",
    "        \"temperature\": 0,\n",
    "        \"top_k\": 250,\n",
    "        \"top_p\": 0.999,\n",
    "        \n",
    "        \"system\": system_prompt,\n",
    "        \"messages\": [\n",
    "            {\n",
    "                \"role\": \"user\",\n",
    "                \"content\": [\n",
    "                    {\n",
    "                        \"type\": \"image\",\n",
    "                        \"source\": {\n",
    "                            \"type\": \"base64\",\n",
    "                            \"media_type\": \"image/jpeg\",\n",
    "                            \"data\": get_base64_from_bytes(image_bytes),\n",
    "                        },\n",
    "                    },\n",
    "                    {\n",
    "                        \"type\": \"text\",\n",
    "                        \"text\": regular_prompt\n",
    "                    }\n",
    "                ],\n",
    "            }\n",
    "        ],\n",
    "    }\n",
    "    \n",
    "    return json.dumps(body)"
   ]
  },
  {
   "cell_type": "code",
   "execution_count": null,
   "id": "056983f4-1043-4e8b-a735-bc0ba2e7e4eb",
   "metadata": {
    "tags": []
   },
   "outputs": [],
   "source": [
    "system_prompt = \"\"\"\n",
    "Your task is to extract all fields in <documents/> with the highest accuracy following <instructions/> \n",
    "\n",
    "<instructions>\n",
    "  - Ensure to escape quotes in the JSON response\n",
    "  - Return \"\" for missing field values\n",
    "  - For each field in <document/>, including ALL fields in ALL <line_item/> nodes, analyze your certainty in the extracted information in <analysis/>\n",
    "</instructions>\n",
    "\n",
    "<documents type=\"array\">\n",
    "<document>\n",
    "<doc_type value=\"Type of Document: Receipt\"/>\n",
    "<receipt_number value=\"The receipt number or other identifier number\"/>\n",
    "<doc_amount_total value=\"The total receipt amount\" type=\"currency\"/>\n",
    "<date_issued value=\"Date document was issued\" format=\"YYYY-MM-DDT00:00:00\"/>\n",
    "<vendor_business_number value=\"Vendor's business identification number e.g. ABN\"/>\n",
    "<vendor_name value=\"Business name issueing the receipt\"/>\n",
    "<vendor_address value=\"Vendor's site address\"/>\n",
    "<vendor_phone value=\"Vendor's phone number\"/>\n",
    "<payment_method value=\"The payment type, e.g. EFTPOS, Card\"/>\n",
    "<currency value=\"AUD/USD/CAD\"/>\n",
    "<all_line_items type=\"array\">\n",
    "<line_item>\n",
    "<line_description value=\"Line item description\"/>\n",
    "<line_quantity value=\"Item quantity\" default=\"1\"/>\n",
    "<line_unit_price value=\"Item price per unit\"/>\n",
    "<line_amount value=\"Line item $ amount\" type=\"currency\"/>\n",
    "</line_item>\n",
    "</all_line_items>\n",
    "<all_line_items_amount_total value=\"Calculated sum of line item's line_amount fields\"/>\n",
    "</document>\n",
    "</documents>\n",
    "\n",
    "<analysis xsl=\"\n",
    "<xsl:stylesheet>\n",
    "<xsl:output method='xml'/>\n",
    "<xsl:template match='all documents'>\n",
    " <xsl:element name=\"{name()}\">\n",
    "   <xsl:attribute name='value'>{[@value]}</xsl:attribute>\n",
    "   <xsl:attribute name='inference'>0=EXPLICIT|1=DERIVED|2=MISSING|3=OTHER</xsl:attribute>\n",
    "   <xsl:attribute name='source'>Source field only if and for explicit/extracted and derived fields</xsl:attribute>\n",
    "   <xsl:apply-templates/>\n",
    " </xsl:element>\n",
    "</xsl:template>\n",
    "</xsl:stylesheet>\n",
    "\"/>\n",
    "\"\"\"\n",
    "\n",
    "regular_prompt = \"\"\"\n",
    "Output as JSON: { \"output\": \"</analysis> as JSON\" }\n",
    "\"\"\"\n",
    "\n",
    "image_bytes = bytearray(open(\"#{{receipt_file.jpeg}}\", 'rb').read())\n",
    "\n",
    "body = transcribe_document(regular_prompt, system_prompt, image_bytes)\n",
    "response = bedrock.invoke_model(body=body, modelId=\"anthropic.claude-3-sonnet-20240229-v1:0\")\n",
    "\n",
    "response_body = json.loads(response.get('body').read()) \n",
    "display(response_body)\n",
    "display(JSON(response_body['content'][0]['text'], root='content')) "
   ]
  }
 ],
 "metadata": {
  "kernelspec": {
   "display_name": "conda_python3",
   "language": "python",
   "name": "conda_python3"
  },
  "language_info": {
   "codemirror_mode": {
    "name": "ipython",
    "version": 3
   },
   "file_extension": ".py",
   "mimetype": "text/x-python",
   "name": "python",
   "nbconvert_exporter": "python",
   "pygments_lexer": "ipython3",
   "version": "3.10.14"
  }
 },
 "nbformat": 4,
 "nbformat_minor": 5
}
